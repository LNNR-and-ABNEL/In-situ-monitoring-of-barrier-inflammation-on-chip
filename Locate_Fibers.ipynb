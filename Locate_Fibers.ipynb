{
 "cells": [
  {
   "cell_type": "markdown",
   "id": "eb332e0f-93b9-4e58-b73a-964660002851",
   "metadata": {
    "tags": []
   },
   "source": [
    "## Import Packages"
   ]
  },
  {
   "cell_type": "code",
   "execution_count": null,
   "id": "3492b082-12a7-4cb0-a9e8-47bff6a01a38",
   "metadata": {
    "jupyter": {
     "source_hidden": true
    },
    "tags": []
   },
   "outputs": [],
   "source": [
    "import os\n",
    "import numpy as np\n",
    "import math\n",
    "import matplotlib.pyplot as plt\n",
    "import matplotlib as mpl\n",
    "%matplotlib inline\n",
    "import pandas as pd\n",
    "import skimage\n",
    "from operator import itemgetter\n",
    "from skimage.filters.rank import entropy\n",
    "from skimage.draw import disk\n",
    "from skimage.transform import hough_circle, hough_circle_peaks\n",
    "from skimage.feature import canny\n",
    "from skimage.draw import circle_perimeter\n",
    "from skimage.util import img_as_ubyte\n",
    "from skimage.exposure import adjust_gamma\n",
    "from skimage.io import imread\n",
    "from skimage.io import imread_collection\n",
    "from scipy import ndimage as ndi\n",
    "from skimage import io, feature, data, filters, measure, morphology\n",
    "import plotly\n",
    "import plotly.express as px\n",
    "import plotly.graph_objects as go"
   ]
  },
  {
   "cell_type": "markdown",
   "id": "eb97728f-5ba4-41ba-9d17-aa66e143a479",
   "metadata": {
    "tags": []
   },
   "source": [
    "## Constant Values, Dependent on Image Characteristics"
   ]
  },
  {
   "cell_type": "code",
   "execution_count": null,
   "id": "5ca90ebc-faeb-45c1-9f88-5a3e7e13abb3",
   "metadata": {
    "tags": []
   },
   "outputs": [],
   "source": [
    "MIN_RADIUS = 94             # min radius should be bigger than noise, about the radius of the fiber end\n",
    "MAX_RADIUS = 100             # max radius of circles to be detected (in pixels), about the radius of the fiber end\n",
    "ACTUAL_RADIUS = 50          #known radius of the desired region of interest (ROI). This will be centered within the located circle\n",
    "LARGER_THRESH = 1.2         # circle is considered significantly larger than another one if its radius is at least x bigger\n",
    "OVERLAP_THRESH = 0.075        # circles are considered overlapping if this part of the smaller circle is overlapping"
   ]
  },
  {
   "cell_type": "markdown",
   "id": "3987d6b0-3c6f-4d97-95d9-df782ce615e5",
   "metadata": {},
   "source": [
    "## Define Functions to Detect Circles"
   ]
  },
  {
   "cell_type": "code",
   "execution_count": null,
   "id": "45434603-dc0f-4606-acb3-95c9300ad96c",
   "metadata": {
    "jupyter": {
     "source_hidden": true
    },
    "tags": []
   },
   "outputs": [],
   "source": [
    "def circle_overlap_percent(centers_distance, radius1, radius2):\n",
    "    \n",
    "    #Calculating the percentage area overlap between circles\n",
    "    \n",
    "    R, r = max(radius1, radius2), min(radius1, radius2)\n",
    "    if centers_distance >= R + r:\n",
    "        return 0.0\n",
    "    elif R >= centers_distance + r:\n",
    "        return 1.0\n",
    "    R2, r2 = R**2, r**2\n",
    "    x1 = (centers_distance**2 - R2 + r2 )/(2*centers_distance)\n",
    "    x2 = abs(centers_distance - x1)\n",
    "    y = math.sqrt(R2 - x1**2)\n",
    "    a1 = R2 * math.atan2(y, x1) - x1*y\n",
    "    if x1 <= centers_distance:\n",
    "        a2 = r2 * math.atan2(y, x2) - x2*y\n",
    "    else:\n",
    "        a2 = math.pi * r2 - a2\n",
    "    overlap_area = a1 + a2\n",
    "    return overlap_area / (math.pi * r2)\n",
    "\n",
    "def circle_overlap(c1, c2):\n",
    "    d = math.sqrt((c1[0]-c2[0])**2 + (c1[1]-c2[1])**2)\n",
    "    return circle_overlap_percent(d, c1[2], c2[2])\n",
    "\n",
    "def inner_circle(cs, c, thresh):\n",
    "    #Determine whether the circle 'c' is inside one circle 'cs'\n",
    "    for dc in cs:\n",
    "        # if new circle is larger than existing -> not inside\n",
    "        if c[2] > dc[2]*LARGER_THRESH: continue\n",
    "        # if new circle is smaller than existing one\n",
    "        if circle_overlap(dc, c)>thresh:\n",
    "            # and there is a significant overlap -> inner circle\n",
    "            return True\n",
    "    return False"
   ]
  },
  {
   "cell_type": "markdown",
   "id": "e8c369e8-7559-4e53-abf6-db87aa4ed4df",
   "metadata": {},
   "source": [
    "## Detect the Circles and Plot the Output"
   ]
  },
  {
   "cell_type": "code",
   "execution_count": null,
   "id": "6898e7c5-091c-42e7-a86b-1b9784e55921",
   "metadata": {
    "tags": []
   },
   "outputs": [],
   "source": [
    "Apical = imread_collection(dirNameA) #This will update every 10 minutes to include new images\n",
    "Basal = imread_collection(dirNameB)  #This will update every 10 minutes to include new images\n",
    "\n",
    "### Both should be index 0, dependent on data set\n",
    "imgA = Apical[0] #We take the baseline image from Apical as imgA \n",
    "imgB = Basal[0] #We take the baseline image from Basal as imgB\n",
    "\n",
    "img_all = np.array([imgA, imgB])\n",
    "drawn_circles_list = []\n",
    "for img in img_all:\n",
    "#Increase the baseline image gain to make the edges easier to locate\n",
    "    adj = skimage.exposure.adjust_gamma(img, gamma=1, gain = 4)\n",
    "    #img = adj #Ability to switch between either applying entropy filter to original or gain increased image\n",
    "    entr_img = entropy(img, skimage.morphology.disk(15)) #Applying to chosen image\n",
    "    image = entr_img #Renaming for easier variable calling in later functions\n",
    "    edges = canny(image, sigma=3) #Applying canny filter to the entropy filtered image\n",
    "\n",
    "# Detect circles of specific radii\n",
    "    hough_radii = np.arange(MIN_RADIUS, MAX_RADIUS, 2) #Giving the range to look between for circles (must be 2 values for min/max)\n",
    "    hough_res = hough_circle(edges, hough_radii) #Actually detect the circles from the Canny filtered image and min/max radii chosen\n",
    "\n",
    "# Select the most prominent circles (in order from best to worst)\n",
    "    accums, cx, cy, radii = hough_circle_peaks(hough_res, hough_radii) #Ignoring noise that may look like one of the 7 circles\n",
    "\n",
    "# Determine EXPECTED_FIBERS circles to be drawn, remove duplicate and overlapping circles from the detected max peaks\n",
    "    drawn_circles = []\n",
    "    for crcl in zip(cy, cx, radii):\n",
    "    # Do not draw circles if they are mostly inside better fitting ones\n",
    "        if not inner_circle(drawn_circles, crcl, OVERLAP_THRESH):\n",
    "        # A good circle found: exclude smaller circles it covers\n",
    "            i = 0\n",
    "            while i<len(drawn_circles):\n",
    "                if circle_overlap(crcl, drawn_circles[i]) > OVERLAP_THRESH:\n",
    "                    t = drawn_circles.pop(i)\n",
    "                else:\n",
    "                    i += 1\n",
    "        # Remember the new circle\n",
    "            drawn_circles.append(crcl)\n",
    "    # Stop after have found more circles than needed\n",
    "        if len(drawn_circles)>EXPECTED_FIBERS:\n",
    "            break\n",
    "\n",
    "    drawn_circles = drawn_circles[:EXPECTED_FIBERS] #Stopping the appended list by the number of needed circles (7)\n",
    "    for i in np.arange(len(drawn_circles)):\n",
    "        drawn_circles[i] = (drawn_circles[i][0], drawn_circles[i][1], ACTUAL_RADIUS)\n",
    "    \n",
    "    drawn_circles_sorted = sorted(drawn_circles,key=itemgetter(1)) #rearranging the found circles to label them from left to right\n",
    "    drawn_circles_list.append(drawn_circles)\n",
    "# Actually draw circles\n",
    "    colors  = [(250, 0, 0), (0, 250, 0), (0, 0, 250)] #Choosing between all rgb\n",
    "    colors += [(200, 200, 0), (0, 200, 200), (200, 0, 200)] #Changing each circle color by values\n",
    "    \n",
    "    from skimage import color\n",
    "    image_final = color.gray2rgb(image)\n",
    "    for center_y, center_x, radius in drawn_circles_sorted:\n",
    "        circy, circx = disk((center_y, center_x), ACTUAL_RADIUS) #Making the circles from stored coordinate and radius values\n",
    "        color = colors.pop(0)\n",
    "        image_final[circy, circx] = color\n",
    "        colors.append(color)\n",
    "    # Plot preprocessing results\n",
    "    fig, ax = plt.subplots(nrows=1, ncols=5, figsize=(10, 10))\n",
    "#Show the imported image without any adjustment\n",
    "    ax[0].imshow(img, cmap='gray')\n",
    "    ax[0].set_title('Original', fontsize=10)\n",
    "#Show the image with gain increase\n",
    "    ax[1].imshow(adj, cmap='gray')\n",
    "    ax[1].set_title(r'Gain = $3.25$', fontsize=10)\n",
    "#Show the result after applying the entropy filter\n",
    "    ax[2].imshow(entr_img, cmap='gray')\n",
    "    ax[2].set_title(r'Entropy filter, $Disk=15$', fontsize=10)\n",
    "#Show the result after applying the Canny filter\n",
    "    ax[3].imshow(edges, cmap='gray')\n",
    "    ax[3].set_title(r'Canny filter, $\\sigma=3$', fontsize=10)\n",
    "    \n",
    "    ax[4].imshow(img, cmap=plt.cm.gray)\n",
    "    ax[4].imshow(image_final/255, cmap=plt.cm.gray, alpha = 0.15)\n",
    "    ax[4].set_title(r'Circle Overlay', fontsize=10)\n",
    "    \n",
    "    for a in ax:\n",
    "        a.axis('off')  \n",
    "    fig.tight_layout()\n",
    "    plt.show()\n",
    "    \n",
    "    print('Found', len(drawn_circles),'circles with (y,x,r):',\n",
    "          drawn_circles_sorted) #Printing the coordinates and radii of the found circles as a numerical check"
   ]
  }
 ],
 "metadata": {
  "kernelspec": {
   "display_name": "Python 3 (ipykernel)",
   "language": "python",
   "name": "python3"
  },
  "language_info": {
   "codemirror_mode": {
    "name": "ipython",
    "version": 3
   },
   "file_extension": ".py",
   "mimetype": "text/x-python",
   "name": "python",
   "nbconvert_exporter": "python",
   "pygments_lexer": "ipython3",
   "version": "3.9.13"
  }
 },
 "nbformat": 4,
 "nbformat_minor": 5
}
